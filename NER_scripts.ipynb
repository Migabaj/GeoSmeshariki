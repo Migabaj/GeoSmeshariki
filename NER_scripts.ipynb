{
 "cells": [
  {
   "cell_type": "code",
   "execution_count": 47,
   "metadata": {},
   "outputs": [],
   "source": [
    "from natasha import (\n",
    "    Segmenter,\n",
    "    MorphVocab,\n",
    "    \n",
    "    NewsEmbedding,\n",
    "    NewsMorphTagger,\n",
    "    NewsSyntaxParser,\n",
    "    NewsNERTagger,\n",
    "    \n",
    "    PER,\n",
    "    NamesExtractor,\n",
    "    DatesExtractor,\n",
    "    MoneyExtractor,\n",
    "    AddrExtractor,\n",
    "\n",
    "    Doc\n",
    ")\n",
    "\n",
    "segmenter = Segmenter()\n",
    "morph_vocab = MorphVocab()\n",
    "\n",
    "emb = NewsEmbedding()\n",
    "morph_tagger = NewsMorphTagger(emb)\n",
    "syntax_parser = NewsSyntaxParser(emb)\n",
    "ner_tagger = NewsNERTagger(emb)\n",
    "\n",
    "names_extractor = NamesExtractor(morph_vocab)\n",
    "dates_extractor = DatesExtractor(morph_vocab)\n",
    "money_extractor = MoneyExtractor(morph_vocab)\n",
    "addr_extractor = AddrExtractor(morph_vocab)\n",
    "\n",
    "\n",
    "import re\n",
    "import string"
   ]
  },
  {
   "cell_type": "code",
   "execution_count": 43,
   "metadata": {},
   "outputs": [
    {
     "data": {
      "text/plain": [
       "Doc(text='Бурунди')"
      ]
     },
     "execution_count": 43,
     "metadata": {},
     "output_type": "execute_result"
    }
   ],
   "source": [
    "text = 'Бурунди'\n",
    "doc = Doc(text)\n",
    "doc"
   ]
  },
  {
   "cell_type": "code",
   "execution_count": 24,
   "metadata": {},
   "outputs": [],
   "source": [
    "with open('scripts.txt', encoding='utf-8') as f:\n",
    "    text = f.read()"
   ]
  },
  {
   "cell_type": "code",
   "execution_count": 34,
   "metadata": {
    "scrolled": false
   },
   "outputs": [
    {
     "data": {
      "text/plain": [
       "[['78:03', 'этого вечера'],\n",
       " ['78:05', 'скамейку арбуз как вы сидели под дождем'],\n",
       " ['78:09', 'и промокли не надо придумывать за наши'],\n",
       " ['78:12', 'воображения'],\n",
       " ['78:30', '[музыка]'],\n",
       " ['78:33', 'монада'],\n",
       " ['78:47', 'как это было сегодня мы точно не забудем'],\n",
       " ['78:51', 'о знать'],\n",
       " ['78:59', 'гаражи'],\n",
       " ['79:03', '[музыка]']]"
      ]
     },
     "execution_count": 34,
     "metadata": {},
     "output_type": "execute_result"
    }
   ],
   "source": [
    "phrases = [x.split('\\n') for x in re.findall(r'(\\d\\d:\\d\\d\\n.+?)\\n', text)]\n",
    "phrases"
   ]
  },
  {
   "cell_type": "code",
   "execution_count": 44,
   "metadata": {},
   "outputs": [
    {
     "data": {
      "text/plain": [
       "Doc(text='Бурунди', tokens=[...], sents=[...])"
      ]
     },
     "metadata": {},
     "output_type": "display_data"
    },
    {
     "data": {
      "text/plain": [
       "[DocSent(stop=7, text='Бурунди', tokens=[...])]"
      ]
     },
     "metadata": {},
     "output_type": "display_data"
    },
    {
     "data": {
      "text/plain": [
       "[DocToken(stop=7, text='Бурунди')]"
      ]
     },
     "metadata": {},
     "output_type": "display_data"
    }
   ],
   "source": [
    "doc.segment(segmenter)\n",
    "display(doc)\n",
    "display(doc.sents[:2])\n",
    "display(doc.tokens[:5])"
   ]
  },
  {
   "cell_type": "code",
   "execution_count": 45,
   "metadata": {},
   "outputs": [
    {
     "data": {
      "text/plain": [
       "[DocToken(stop=7, text='Бурунди', id='1_1', head_id='1_0', rel='root', pos='PROPN', feats=<Inan,Gen,Fem,Sing>)]"
      ]
     },
     "metadata": {},
     "output_type": "display_data"
    }
   ],
   "source": [
    "doc.tag_morph(morph_tagger)\n",
    "doc.parse_syntax(syntax_parser)\n",
    "display(doc.tokens[:5])"
   ]
  },
  {
   "cell_type": "code",
   "execution_count": 46,
   "metadata": {},
   "outputs": [
    {
     "data": {
      "text/plain": [
       "[DocSpan(stop=7, type='LOC', text='Бурунди', tokens=[...])]"
      ]
     },
     "metadata": {},
     "output_type": "display_data"
    }
   ],
   "source": [
    "doc.tag_ner(ner_tagger)\n",
    "display(doc.spans[:5])"
   ]
  },
  {
   "cell_type": "code",
   "execution_count": null,
   "metadata": {},
   "outputs": [],
   "source": [
    "doc.ner.print()"
   ]
  },
  {
   "cell_type": "code",
   "execution_count": 51,
   "metadata": {},
   "outputs": [],
   "source": [
    "loc_phrases = []\n",
    "for phrase in phrases:\n",
    "    doc = Doc(string.capwords(phrase[1]))\n",
    "    doc.segment(segmenter)\n",
    "    doc.tag_morph(morph_tagger)\n",
    "    doc.parse_syntax(syntax_parser)\n",
    "    doc.tag_ner(ner_tagger)\n",
    "    for span in doc.spans:\n",
    "        if (span.type == 'LOC') and (len(span.text.split()) == 1):\n",
    "            loc_phrases.append((phrase, span))"
   ]
  },
  {
   "cell_type": "code",
   "execution_count": 53,
   "metadata": {},
   "outputs": [
    {
     "data": {
      "text/plain": [
       "136"
      ]
     },
     "execution_count": 53,
     "metadata": {},
     "output_type": "execute_result"
    }
   ],
   "source": [
    "len(loc_phrases)"
   ]
  },
  {
   "cell_type": "code",
   "execution_count": 54,
   "metadata": {},
   "outputs": [
    {
     "data": {
      "text/plain": [
       "[(['00:34', 'наконец сделал и покрасил рядом с крошем'],\n",
       "  DocSpan(start=34, stop=40, type='LOC', text='Крошем', tokens=[...])),\n",
       " (['08:57', 'помогает хочешь как известно в трудных'],\n",
       "  DocSpan(start=31, stop=38, type='LOC', text='Трудных', tokens=[...])),\n",
       " (['10:02', 'потерпела кораблекрушение на пустынный'],\n",
       "  DocSpan(start=29, stop=38, type='LOC', text='Пустынный', tokens=[...])),\n",
       " (['18:53', 'пойти прогуляться и выскочит'],\n",
       "  DocSpan(start=20, stop=28, type='LOC', text='Выскочит', tokens=[...])),\n",
       " (['22:30', 'пасмурно'],\n",
       "  DocSpan(stop=8, type='LOC', text='Пасмурно', tokens=[...])),\n",
       " (['30:06', 'судак'], DocSpan(stop=5, type='LOC', text='Судак', tokens=[...])),\n",
       " (['35:39', 'мы пропали'],\n",
       "  DocSpan(start=3, stop=10, type='LOC', text='Пропали', tokens=[...])),\n",
       " (['42:51', 'договорились встретиться в лесу около в'],\n",
       "  DocSpan(start=27, stop=31, type='LOC', text='Лесу', tokens=[...])),\n",
       " (['50:11', 'конечно хорошее настроение так и запишем'],\n",
       "  DocSpan(start=33, stop=40, type='LOC', text='Запишем', tokens=[...])),\n",
       " (['06:00', 'на речку'],\n",
       "  DocSpan(start=3, stop=8, type='LOC', text='Речку', tokens=[...])),\n",
       " (['28:14', 'но смогла доплыть что необитаемого'],\n",
       "  DocSpan(start=22, stop=34, type='LOC', text='Необитаемого', tokens=[...])),\n",
       " (['51:19', 'ухты чьи-то следы к смешные такие'],\n",
       "  DocSpan(stop=4, type='LOC', text='Ухты', tokens=[...])),\n",
       " (['52:47', 'а как-нибудь'],\n",
       "  DocSpan(start=2, stop=12, type='LOC', text='Как-нибудь', tokens=[...])),\n",
       " (['55:19', 'как можно быстрее загнать мяч в лунку'],\n",
       "  DocSpan(start=32, stop=37, type='LOC', text='Лунку', tokens=[...])),\n",
       " (['03:00', 'от отеля до слоя'],\n",
       "  DocSpan(start=12, stop=16, type='LOC', text='Слоя', tokens=[...])),\n",
       " (['04:42', 'облака и вздремнуть'],\n",
       "  DocSpan(start=9, stop=19, type='LOC', text='Вздремнуть', tokens=[...])),\n",
       " (['28:55', 'только его нюша отправилась на поиски'],\n",
       "  DocSpan(start=31, stop=37, type='LOC', text='Поиски', tokens=[...])),\n",
       " (['42:12', 'что это у тебя балласт в пещере нашла'],\n",
       "  DocSpan(start=25, stop=31, type='LOC', text='Пещере', tokens=[...])),\n",
       " (['36:40', 'опять газу в этот раз мы можем не успеть'],\n",
       "  DocSpan(start=6, stop=10, type='LOC', text='Газу', tokens=[...])),\n",
       " (['37:35', 'кольца'],\n",
       "  DocSpan(stop=6, type='LOC', text='Кольца', tokens=[...])),\n",
       " (['40:10', 'сегодня в полночь'],\n",
       "  DocSpan(start=10, stop=17, type='LOC', text='Полночь', tokens=[...])),\n",
       " (['49:46', 'остановить и не надо польши подниматься'],\n",
       "  DocSpan(start=21, stop=27, type='LOC', text='Польши', tokens=[...])),\n",
       " (['55:51', 'ему запретили'],\n",
       "  DocSpan(start=4, stop=13, type='LOC', text='Запретили', tokens=[...])),\n",
       " (['02:21', 'откуда они взялись тот вылил их в море'],\n",
       "  DocSpan(start=34, stop=38, type='LOC', text='Море', tokens=[...])),\n",
       " (['05:42', 'держись фарватера'],\n",
       "  DocSpan(start=8, stop=17, type='LOC', text='Фарватера', tokens=[...])),\n",
       " (['11:51', 'снимать городу уху пуховку'],\n",
       "  DocSpan(start=8, stop=14, type='LOC', text='Городу', tokens=[...])),\n",
       " (['20:42', 'лобби'], DocSpan(stop=5, type='LOC', text='Лобби', tokens=[...])),\n",
       " (['22:16', 'лаванда прием да все в порядке что земли'],\n",
       "  DocSpan(start=35, stop=40, type='LOC', text='Земли', tokens=[...])),\n",
       " (['29:15', 'на деревьях идет ужина хорошо капелька'],\n",
       "  DocSpan(start=3, stop=11, type='LOC', text='Деревьях', tokens=[...])),\n",
       " (['38:13', 'друзья мои завтра будет ясно и солнечно'],\n",
       "  DocSpan(start=31, stop=39, type='LOC', text='Солнечно', tokens=[...])),\n",
       " (['55:55', 'да над нами сша все рыбы смеются смеются'],\n",
       "  DocSpan(start=12, stop=15, type='LOC', text='Сша', tokens=[...])),\n",
       " (['58:31', 'почему бы и нет сгодились для рыбы'],\n",
       "  DocSpan(start=30, stop=34, type='LOC', text='Рыбы', tokens=[...])),\n",
       " (['11:22', 'зацвела на три минуточки как и'],\n",
       "  DocSpan(stop=7, type='LOC', text='Зацвела', tokens=[...])),\n",
       " (['29:42', 'соответствует всем смесь ада до заговора'],\n",
       "  DocSpan(start=32, stop=40, type='LOC', text='Заговора', tokens=[...])),\n",
       " (['32:37', 'ее в дом надо разморозить'],\n",
       "  DocSpan(start=14, stop=25, type='LOC', text='Разморозить', tokens=[...])),\n",
       " (['38:42', 'треугольнике'],\n",
       "  DocSpan(stop=12, type='LOC', text='Треугольнике', tokens=[...])),\n",
       " (['60:28', 'спа'], DocSpan(stop=3, type='LOC', text='Спа', tokens=[...])),\n",
       " (['05:26', 'томилась в темнице 200 лет сколько'],\n",
       "  DocSpan(start=11, stop=18, type='LOC', text='Темнице', tokens=[...])),\n",
       " (['16:25', 'может упасть какой-нибудь случай дочки'],\n",
       "  DocSpan(start=6, stop=12, type='LOC', text='Упасть', tokens=[...])),\n",
       " (['17:01', 'не позволю вам скатиться в первобытное'],\n",
       "  DocSpan(start=27, stop=38, type='LOC', text='Первобытное', tokens=[...])),\n",
       " (['26:47', 'окружности с необыкновенными'],\n",
       "  DocSpan(stop=10, type='LOC', text='Окружности', tokens=[...])),\n",
       " (['03:13', 'речки жук ирак сошлись у речки'],\n",
       "  DocSpan(start=25, stop=30, type='LOC', text='Речки', tokens=[...])),\n",
       " (['23:48', 'с чего это вдруг ведь внешняя'],\n",
       "  DocSpan(start=22, stop=29, type='LOC', text='Внешняя', tokens=[...])),\n",
       " (['46:30', 'и пальца долетает до луны'],\n",
       "  DocSpan(start=21, stop=25, type='LOC', text='Луны', tokens=[...])),\n",
       " (['12:07', 'тайно от всех он делает подземное'],\n",
       "  DocSpan(stop=5, type='LOC', text='Тайно', tokens=[...])),\n",
       " (['12:07', 'тайно от всех он делает подземное'],\n",
       "  DocSpan(start=24, stop=33, type='LOC', text='Подземное', tokens=[...])),\n",
       " (['12:09', 'убежище'],\n",
       "  DocSpan(stop=7, type='LOC', text='Убежище', tokens=[...])),\n",
       " (['15:48', 'и ежеминутно'],\n",
       "  DocSpan(start=2, stop=12, type='LOC', text='Ежеминутно', tokens=[...])),\n",
       " (['18:31', 'ой а почему мы в лесу не может подобрать'],\n",
       "  DocSpan(start=17, stop=21, type='LOC', text='Лесу', tokens=[...])),\n",
       " (['18:55', 'тут причем почему мы идем в горы в лесу'],\n",
       "  DocSpan(start=35, stop=39, type='LOC', text='Лесу', tokens=[...])),\n",
       " (['30:42', 'путешественник ступивший на поверхность'],\n",
       "  DocSpan(start=28, stop=39, type='LOC', text='Поверхность', tokens=[...])),\n",
       " (['35:48', 'придется снять и приземление на плутоне'],\n",
       "  DocSpan(start=32, stop=39, type='LOC', text='Плутоне', tokens=[...])),\n",
       " (['36:00', 'стыковку на орбите сатурна'],\n",
       "  DocSpan(start=12, stop=18, type='LOC', text='Орбите', tokens=[...])),\n",
       " (['36:00', 'стыковку на орбите сатурна'],\n",
       "  DocSpan(start=19, stop=26, type='LOC', text='Сатурна', tokens=[...])),\n",
       " (['37:03', 'а я нет п квадрат сумме ву 6 кубометров'],\n",
       "  DocSpan(start=29, stop=39, type='LOC', text='Кубометров', tokens=[...])),\n",
       " (['45:25', 'париж ты что слепая что они есть и здесь'],\n",
       "  DocSpan(stop=5, type='LOC', text='Париж', tokens=[...])),\n",
       " (['59:00', 'ручьи'], DocSpan(stop=5, type='LOC', text='Ручьи', tokens=[...])),\n",
       " (['00:08', 'грузия'],\n",
       "  DocSpan(stop=6, type='LOC', text='Грузия', tokens=[...])),\n",
       " (['06:46', 'сша'], DocSpan(stop=3, type='LOC', text='Сша', tokens=[...])),\n",
       " (['06:50', 'ш'], DocSpan(stop=1, type='LOC', text='Ш', tokens=[...])),\n",
       " (['32:13', 'оборвалась и ящик падал на пылающий'],\n",
       "  DocSpan(start=27, stop=35, type='LOC', text='Пылающий', tokens=[...])),\n",
       " (['35:26', 'чили разве можно извините так'],\n",
       "  DocSpan(stop=4, type='LOC', text='Чили', tokens=[...])),\n",
       " (['49:30', 'через год-другой'],\n",
       "  DocSpan(start=6, stop=16, type='LOC', text='Год-другой', tokens=[...])),\n",
       " (['58:16', 'облился природными до колик или вдруг ни'],\n",
       "  DocSpan(start=22, stop=27, type='LOC', text='Колик', tokens=[...])),\n",
       " (['59:04', 'не могла что ли поближе где-нибудь'],\n",
       "  DocSpan(start=24, stop=34, type='LOC', text='Где-нибудь', tokens=[...])),\n",
       " (['59:07', 'обитать'],\n",
       "  DocSpan(stop=7, type='LOC', text='Обитать', tokens=[...])),\n",
       " (['11:43', 'искать мой склад углом ашой на камень'],\n",
       "  DocSpan(start=31, stop=37, type='LOC', text='Камень', tokens=[...])),\n",
       " (['40:55', 'суток я ем пошел дров нарубить а в лесу'],\n",
       "  DocSpan(start=35, stop=39, type='LOC', text='Лесу', tokens=[...])),\n",
       " (['48:12', 'растаял под таргета'],\n",
       "  DocSpan(start=12, stop=19, type='LOC', text='Таргета', tokens=[...])),\n",
       " (['60:40', 'отдохнешь лежишь на песочке под пальмой'],\n",
       "  DocSpan(start=32, stop=39, type='LOC', text='Пальмой', tokens=[...])),\n",
       " (['17:58', 'индокитае'],\n",
       "  DocSpan(stop=9, type='LOC', text='Индокитае', tokens=[...])),\n",
       " (['28:03', 'нижние и верхние африке'],\n",
       "  DocSpan(stop=6, type='LOC', text='Нижние', tokens=[...])),\n",
       " (['33:00', 'для запада'],\n",
       "  DocSpan(start=4, stop=10, type='LOC', text='Запада', tokens=[...])),\n",
       " (['34:04', 'туле'], DocSpan(stop=4, type='LOC', text='Туле', tokens=[...])),\n",
       " (['42:16', 'тебе надо больше by white на воздух'],\n",
       "  DocSpan(start=29, stop=35, type='LOC', text='Воздух', tokens=[...])),\n",
       " (['45:11', 'не в результа'],\n",
       "  DocSpan(start=5, stop=13, type='LOC', text='Результа', tokens=[...])),\n",
       " (['10:52', 'куда вы дели'],\n",
       "  DocSpan(start=8, stop=12, type='LOC', text='Дели', tokens=[...])),\n",
       " (['16:19', 'в одиночестве'],\n",
       "  DocSpan(start=2, stop=13, type='LOC', text='Одиночестве', tokens=[...])),\n",
       " (['51:21', 'город что в стране'],\n",
       "  DocSpan(start=12, stop=18, type='LOC', text='Стране', tokens=[...])),\n",
       " (['51:53', 'круглая окаянная добрались до костромы'],\n",
       "  DocSpan(start=30, stop=38, type='LOC', text='Костромы', tokens=[...])),\n",
       " (['08:16', 'сосна жужжание чубе'],\n",
       "  DocSpan(stop=5, type='LOC', text='Сосна', tokens=[...])),\n",
       " (['20:18', 'правда редко в болотистой местности'],\n",
       "  DocSpan(start=15, stop=25, type='LOC', text='Болотистой', tokens=[...])),\n",
       " (['30:35', 'пешком весна природа оживает все вокруг'],\n",
       "  DocSpan(start=33, stop=39, type='LOC', text='Вокруг', tokens=[...])),\n",
       " (['32:50', 'индийский фильм и прозрел в индии'],\n",
       "  DocSpan(start=28, stop=33, type='LOC', text='Индии', tokens=[...])),\n",
       " (['36:00', 'для индии там всегда солнце а у нас надо'],\n",
       "  DocSpan(start=4, stop=9, type='LOC', text='Индии', tokens=[...])),\n",
       " (['44:00', 'кабул'], DocSpan(stop=5, type='LOC', text='Кабул', tokens=[...])),\n",
       " (['50:29', 'здесь кольца не как о бараш у нас палец'],\n",
       "  DocSpan(start=6, stop=12, type='LOC', text='Кольца', tokens=[...])),\n",
       " (['55:41', 'то ли в школе который в анголе она не'],\n",
       "  DocSpan(start=24, stop=30, type='LOC', text='Анголе', tokens=[...])),\n",
       " (['58:06', 'потерял при пересадке в константинополь'],\n",
       "  DocSpan(start=24, stop=39, type='LOC', text='Константинополь', tokens=[...])),\n",
       " (['17:41', 'лететь на марс это значит что мы не'],\n",
       "  DocSpan(start=10, stop=14, type='LOC', text='Марс', tokens=[...])),\n",
       " (['20:14', 'вот структура атомов углерода в алмате'],\n",
       "  DocSpan(start=32, stop=38, type='LOC', text='Алмате', tokens=[...])),\n",
       " (['20:25', 'шестиугольники на украине ходу всего по'],\n",
       "  DocSpan(start=18, stop=25, type='LOC', text='Украине', tokens=[...])),\n",
       " (['20:33', 'аналогия а можно свернуть и в косичку'],\n",
       "  DocSpan(start=30, stop=37, type='LOC', text='Косичку', tokens=[...])),\n",
       " (['31:24', 'роще'], DocSpan(stop=4, type='LOC', text='Роще', tokens=[...])),\n",
       " (['32:37', 'высохшая болото так и не дошла до ручья'],\n",
       "  DocSpan(start=34, stop=39, type='LOC', text='Ручья', tokens=[...])),\n",
       " (['33:05', 'не мешает карта антарктиды на лувре'],\n",
       "  DocSpan(start=30, stop=35, type='LOC', text='Лувре', tokens=[...])),\n",
       " (['35:34', 'карту перу рисовать вот нарисовал карту'],\n",
       "  DocSpan(start=6, stop=10, type='LOC', text='Перу', tokens=[...])),\n",
       " (['59:55', '15 будет проведена в мурманске я тут'],\n",
       "  DocSpan(start=21, stop=30, type='LOC', text='Мурманске', tokens=[...])),\n",
       " (['10:22', 'из сша'],\n",
       "  DocSpan(start=3, stop=6, type='LOC', text='Сша', tokens=[...])),\n",
       " (['28:04', 'тигрицы она серия на наконец-то ты'],\n",
       "  DocSpan(stop=7, type='LOC', text='Тигрицы', tokens=[...])),\n",
       " (['32:12', 'провести в жадности'],\n",
       "  DocSpan(start=11, stop=19, type='LOC', text='Жадности', tokens=[...])),\n",
       " (['43:19', 'в африке нет айсберга они в арктике'],\n",
       "  DocSpan(start=28, stop=35, type='LOC', text='Арктике', tokens=[...])),\n",
       " (['43:27', 'хотя африке от этого только хуже'],\n",
       "  DocSpan(start=5, stop=11, type='LOC', text='Африке', tokens=[...])),\n",
       " (['45:31', 'и поехал'],\n",
       "  DocSpan(start=2, stop=8, type='LOC', text='Поехал', tokens=[...])),\n",
       " (['60:36', 'представьте какой ashes в море'],\n",
       "  DocSpan(start=26, stop=30, type='LOC', text='Море', tokens=[...])),\n",
       " (['60:38', 'рыбе сша будет'],\n",
       "  DocSpan(start=5, stop=8, type='LOC', text='Сша', tokens=[...])),\n",
       " (['13:33', 'ой сломали лучше палисадник в округе я'],\n",
       "  DocSpan(start=30, stop=36, type='LOC', text='Округе', tokens=[...])),\n",
       " (['35:46', 'нью-йорка это маленький ложкой масла'],\n",
       "  DocSpan(stop=9, type='LOC', text='Нью-йорка', tokens=[...])),\n",
       " (['38:03', 'веселит тебе легкомысленными в песенками'],\n",
       "  DocSpan(start=31, stop=40, type='LOC', text='Песенками', tokens=[...])),\n",
       " (['50:20', 'куда делась'],\n",
       "  DocSpan(start=5, stop=11, type='LOC', text='Делась', tokens=[...])),\n",
       " (['52:15', 'юга занесла все дорогу'],\n",
       "  DocSpan(stop=3, type='LOC', text='Юга', tokens=[...])),\n",
       " (['59:12', 'свое спасение от солнца панамка от ветра'],\n",
       "  DocSpan(start=35, stop=40, type='LOC', text='Ветра', tokens=[...])),\n",
       " (['04:28', 'и ижма ну как фильма'],\n",
       "  DocSpan(start=2, stop=6, type='LOC', text='Ижма', tokens=[...])),\n",
       " (['16:52', 'россии на рельсах а я не смеюсь и'],\n",
       "  DocSpan(stop=6, type='LOC', text='России', tokens=[...])),\n",
       " (['29:33', 'совсем не горе кто-то захлебнулся в море'],\n",
       "  DocSpan(start=36, stop=40, type='LOC', text='Море', tokens=[...])),\n",
       " (['41:38', 'зачем мы бьемся косово'],\n",
       "  DocSpan(start=16, stop=22, type='LOC', text='Косово', tokens=[...])),\n",
       " (['43:15', 'спа'], DocSpan(stop=3, type='LOC', text='Спа', tokens=[...])),\n",
       " (['57:13', 'фруктов'],\n",
       "  DocSpan(stop=7, type='LOC', text='Фруктов', tokens=[...])),\n",
       " (['27:28', 'знаешь я пробовал веревочки из хлопка'],\n",
       "  DocSpan(start=31, stop=37, type='LOC', text='Хлопка', tokens=[...])),\n",
       " (['34:16', 'ты не узнаешь как в морях и океанах'],\n",
       "  DocSpan(start=28, stop=35, type='LOC', text='Океанах', tokens=[...])),\n",
       " (['34:46', 'вернуться обратно'],\n",
       "  DocSpan(start=10, stop=17, type='LOC', text='Обратно', tokens=[...])),\n",
       " (['52:35', 'созвездие стрекозы и жители планеты'],\n",
       "  DocSpan(start=21, stop=27, type='LOC', text='Жители', tokens=[...])),\n",
       " (['52:35', 'созвездие стрекозы и жители планеты'],\n",
       "  DocSpan(start=28, stop=35, type='LOC', text='Планеты', tokens=[...])),\n",
       " (['00:41', 'серым а теперь она затопила всю захвате'],\n",
       "  DocSpan(start=32, stop=39, type='LOC', text='Захвате', tokens=[...])),\n",
       " (['43:36', 'открыл окно чтобы отдышаться'],\n",
       "  DocSpan(start=18, stop=28, type='LOC', text='Отдышаться', tokens=[...])),\n",
       " (['00:41', 'серым а теперь она затопила всю захвате'],\n",
       "  DocSpan(start=32, stop=39, type='LOC', text='Захвате', tokens=[...])),\n",
       " (['43:36', 'открыл окно чтобы отдышаться'],\n",
       "  DocSpan(start=18, stop=28, type='LOC', text='Отдышаться', tokens=[...])),\n",
       " (['07:19', 'или вкус клиник и в горах и в джоплин'],\n",
       "  DocSpan(start=30, stop=37, type='LOC', text='Джоплин', tokens=[...])),\n",
       " (['07:28', 'повсеместно о их нет только в австралии'],\n",
       "  DocSpan(start=30, stop=39, type='LOC', text='Австралии', tokens=[...])),\n",
       " (['07:36', 'представляете нет и все что австралия'],\n",
       "  DocSpan(start=28, stop=37, type='LOC', text='Австралия', tokens=[...])),\n",
       " (['09:52', 'подумаешь его австралии может быть'],\n",
       "  DocSpan(start=14, stop=23, type='LOC', text='Австралии', tokens=[...])),\n",
       " (['10:07', 'австралии я стану лошади у аниты что'],\n",
       "  DocSpan(stop=9, type='LOC', text='Австралии', tokens=[...])),\n",
       " (['12:16', 'австралии считаете никому не надо сад'],\n",
       "  DocSpan(stop=9, type='LOC', text='Австралии', tokens=[...])),\n",
       " (['50:26', 'он хранится в холодильнике в замке'],\n",
       "  DocSpan(start=29, stop=34, type='LOC', text='Замке', tokens=[...])),\n",
       " (['71:32', 'почему мы приземлились'],\n",
       "  DocSpan(start=10, stop=22, type='LOC', text='Приземлились', tokens=[...])),\n",
       " (['78:59', 'гаражи'],\n",
       "  DocSpan(stop=6, type='LOC', text='Гаражи', tokens=[...]))]"
      ]
     },
     "execution_count": 54,
     "metadata": {},
     "output_type": "execute_result"
    }
   ],
   "source": [
    "loc_phrases"
   ]
  }
 ],
 "metadata": {
  "kernelspec": {
   "display_name": "Python 3",
   "language": "python",
   "name": "python3"
  },
  "language_info": {
   "codemirror_mode": {
    "name": "ipython",
    "version": 3
   },
   "file_extension": ".py",
   "mimetype": "text/x-python",
   "name": "python",
   "nbconvert_exporter": "python",
   "pygments_lexer": "ipython3",
   "version": "3.7.3"
  }
 },
 "nbformat": 4,
 "nbformat_minor": 2
}
